{
 "cells": [
  {
   "attachments": {},
   "cell_type": "markdown",
   "metadata": {},
   "source": [
    "# Upload Dataset to NeMo Service\n"
   ]
  },
  {
   "cell_type": "code",
   "execution_count": 16,
   "metadata": {},
   "outputs": [
    {
     "name": "stdout",
     "output_type": "stream",
     "text": [
      "The dotenv extension is already loaded. To reload it, use:\n",
      "  %reload_ext dotenv\n"
     ]
    }
   ],
   "source": [
    "%load_ext dotenv\n",
    "%dotenv\n",
    "\n",
    "import os\n",
    "\n",
    "import nemollm\n",
    "import pandas as pd\n",
    "\n",
    "assert \"NGC_API_KEY\" in os.environ, \"Please set the NGC_API_KEY environment variable in the .env file.\""
   ]
  },
  {
   "cell_type": "code",
   "execution_count": 17,
   "metadata": {},
   "outputs": [],
   "source": [
    "# Input and output filenames\n",
    "input_filename = \"./pubmedqa/data/pqal_fold0/train_set.json\"\n",
    "output_filename = \"./datasets/pubmedqa-pqal_fold0-train.jsonl\""
   ]
  },
  {
   "attachments": {},
   "cell_type": "markdown",
   "metadata": {},
   "source": [
    "## Convert the Input Dataset to the NeMo Format\n",
    "\n",
    "We need to take the input file, which is in a nested dictionary format, and convert it to JSONL format according to: https://llm.ngc.nvidia.com/docs/model-customization-with-p-tuning.html#dataset\n",
    "\n",
    "Each prompt should look like the following:\n",
    "\n",
    "```handlebars\n",
    "Provided context:\n",
    "{{#each context}}\n",
    "  {{this.LABEL}}: {{this.CONTEXT}}\n",
    "{{/each}}\n",
    "Question: {{QUESTION}}\n",
    "Answer (yes / no / maybe):\n",
    "```\n"
   ]
  },
  {
   "cell_type": "code",
   "execution_count": 19,
   "metadata": {},
   "outputs": [
    {
     "name": "stdout",
     "output_type": "stream",
     "text": [
      "=====EXAMPLE PROMPT=====\n",
      "Provided context:\n",
      "OBJECTIVE: To report three cases illustrating that it is not unusual for a primary eyelid tumour to metastasise to the parotid gland and vice versa.\n",
      "CASE REPORTS: Two patients with malignant parotid tumours underwent radical parotidectomy and presented subsequently with eyelid lesions. Biopsy showed that both eyelid lesions were histologically similar to the primary parotid tumour. A third patient was noted to have ipsilateral upper eyelid and parotid gland tumours. Histology and immunocytochemistry were used to differentiate the primary tumour and the metastasis.\n",
      "Question: Eyelid-parotid metastasis: do we screen for coexisting masses?\n",
      "Answer (yes / no / maybe):\n",
      "========================\n"
     ]
    }
   ],
   "source": [
    "# Load the datapd.\n",
    "import random\n",
    "\n",
    "train_df = pd.read_json(input_filename, orient=\"index\")\n",
    "\n",
    "def apply_fn(x: pd.Series):\n",
    "    labels = \"\\n\".join([f\"{context}: {label}\" for context, label in zip(x.LABELS, x.CONTEXTS)])\n",
    "\n",
    "    return f\"Provided context:\\n{labels}\\nQuestion: {x.QUESTION}\\nAnswer (yes / no / maybe):\"\n",
    "\n",
    "# Get the data into the correct format { \"prompt\": \"question\", \"completion\": \"answer\" }\n",
    "train_df[\"prompt\"] = train_df[[\"CONTEXTS\", \"LABELS\", \"QUESTION\"]].apply(apply_fn, axis=1)\n",
    "train_df[\"completion\"] = train_df[\"final_decision\"]\n",
    "\n",
    "# Show one value:\n",
    "print((f\"=====EXAMPLE PROMPT=====\\n\"\n",
    "       f\"{train_df['prompt'].iloc[random.randint(0, len(train_df)-1)]}\\n\"\n",
    "       f\"========================\"))\n",
    "\n",
    "# Save it to disk\n",
    "os.makedirs(os.path.dirname(output_filename), exist_ok=True)\n",
    "\n",
    "with open(output_filename, \"w\") as f:\n",
    "    train_df[[\"prompt\", \"completion\"]].to_json(f, orient=\"records\", lines=True)\n"
   ]
  },
  {
   "cell_type": "code",
   "execution_count": 21,
   "metadata": {},
   "outputs": [
    {
     "name": "stderr",
     "output_type": "stream",
     "text": [
      "pubmedqa-pqal_fold0-train.jsonl: 690kB [00:01, 492kB/s]                             "
     ]
    },
    {
     "name": "stdout",
     "output_type": "stream",
     "text": [
      "===SUCCESS!!!===\n"
     ]
    },
    {
     "name": "stderr",
     "output_type": "stream",
     "text": [
      "\n"
     ]
    }
   ],
   "source": [
    "# Upload to LLM\n",
    "nemo = nemollm.NemoLLM(\n",
    "    api_key=os.environ[\"NGC_API_KEY\"],\n",
    "    org_id=\"bwbg3fjn7she\",\n",
    ")\n",
    "\n",
    "nemo.upload(output_filename, True)\n",
    "\n",
    "print(\"===SUCCESS!!!===\")"
   ]
  },
  {
   "cell_type": "code",
   "execution_count": null,
   "metadata": {},
   "outputs": [],
   "source": []
  }
 ],
 "metadata": {
  "kernelspec": {
   "display_name": "morpheus_dev3",
   "language": "python",
   "name": "python3"
  },
  "language_info": {
   "codemirror_mode": {
    "name": "ipython",
    "version": 3
   },
   "file_extension": ".py",
   "mimetype": "text/x-python",
   "name": "python",
   "nbconvert_exporter": "python",
   "pygments_lexer": "ipython3",
   "version": "3.10.12"
  },
  "orig_nbformat": 4
 },
 "nbformat": 4,
 "nbformat_minor": 2
}
