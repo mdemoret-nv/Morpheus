{
 "cells": [
  {
   "attachments": {},
   "cell_type": "markdown",
   "metadata": {},
   "source": [
    "# Upload Dataset to NeMo Service\n"
   ]
  },
  {
   "cell_type": "code",
   "execution_count": null,
   "metadata": {},
   "outputs": [],
   "source": [
    "%load_ext dotenv\n",
    "%dotenv\n",
    "\n",
    "import os\n",
    "\n",
    "import nemollm\n",
    "import pandas as pd\n",
    "\n",
    "assert \"NGC_API_KEY\" in os.environ, \"Please set the NGC_API_KEY environment variable in the .env file.\"\n",
    "assert \"NGC_ORG_ID\" in os.environ, \"Please set the NGC_ORG_ID environment variable in the .env file.\""
   ]
  },
  {
   "cell_type": "code",
   "execution_count": null,
   "metadata": {},
   "outputs": [],
   "source": [
    "# Input and output filenames\n",
    "input_filename = \"./pubmedqa/data/pqal_fold0/train_set.json\"\n",
    "output_filename = \"./datasets/pubmedqa-pqal_fold0-train.jsonl\""
   ]
  },
  {
   "attachments": {},
   "cell_type": "markdown",
   "metadata": {},
   "source": [
    "## Convert the Input Dataset to the NeMo Format\n",
    "\n",
    "We need to take the input file, which is in a nested dictionary format, and convert it to JSONL format according to: https://llm.ngc.nvidia.com/docs/model-customization-with-p-tuning.html#dataset\n",
    "\n",
    "Each prompt should look like the following:\n",
    "\n",
    "```handlebars\n",
    "Provided context:\n",
    "{{#each context}}\n",
    "  {{this.LABEL}}: {{this.CONTEXT}}\n",
    "{{/each}}\n",
    "Question: {{QUESTION}}\n",
    "Answer (yes / no / maybe):\n",
    "```\n"
   ]
  },
  {
   "cell_type": "code",
   "execution_count": null,
   "metadata": {},
   "outputs": [],
   "source": [
    "# Load the datapd.\n",
    "import random\n",
    "\n",
    "train_df = pd.read_json(input_filename, orient=\"index\")\n",
    "\n",
    "def apply_fn(x: pd.Series):\n",
    "    labels = \"\\n\".join([f\"{context}: {label}\" for context, label in zip(x.LABELS, x.CONTEXTS)])\n",
    "\n",
    "    return f\"Provided context:\\n{labels}\\nQuestion: {x.QUESTION}\\nAnswer (yes / no / maybe):\"\n",
    "\n",
    "# Get the data into the correct format { \"prompt\": \"question\", \"completion\": \"answer\" }\n",
    "train_df[\"prompt\"] = train_df[[\"CONTEXTS\", \"LABELS\", \"QUESTION\"]].apply(apply_fn, axis=1)\n",
    "train_df[\"completion\"] = train_df[\"final_decision\"]\n",
    "\n",
    "# Show one value:\n",
    "print((f\"=====EXAMPLE PROMPT=====\\n\"\n",
    "       f\"{train_df['prompt'].iloc[random.randint(0, len(train_df)-1)]}\\n\"\n",
    "       f\"========================\"))\n",
    "\n",
    "# Save it to disk\n",
    "os.makedirs(os.path.dirname(output_filename), exist_ok=True)\n",
    "\n",
    "with open(output_filename, \"w\") as f:\n",
    "    train_df[[\"prompt\", \"completion\"]].to_json(f, orient=\"records\", lines=True)\n"
   ]
  },
  {
   "cell_type": "code",
   "execution_count": null,
   "metadata": {},
   "outputs": [],
   "source": [
    "# Upload to LLM\n",
    "nemo = nemollm.NemoLLM(\n",
    "    api_key=os.environ[\"NGC_API_KEY\"],\n",
    "    org_id=os.environ[\"NGC_ORG_ID\"],\n",
    ")\n",
    "\n",
    "nemo.upload(output_filename, True)\n",
    "\n",
    "print(\"===SUCCESS!!!===\")"
   ]
  }
 ],
 "metadata": {
  "kernelspec": {
   "display_name": "morpheus_dev3",
   "language": "python",
   "name": "python3"
  },
  "language_info": {
   "codemirror_mode": {
    "name": "ipython",
    "version": 3
   },
   "file_extension": ".py",
   "mimetype": "text/x-python",
   "name": "python",
   "nbconvert_exporter": "python",
   "pygments_lexer": "ipython3",
   "version": "3.10.12"
  },
  "orig_nbformat": 4
 },
 "nbformat": 4,
 "nbformat_minor": 2
}
