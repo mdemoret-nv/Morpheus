{
 "cells": [
  {
   "attachments": {},
   "cell_type": "markdown",
   "metadata": {},
   "source": [
    "# Upload Dataset to NeMo Service\n"
   ]
  },
  {
   "cell_type": "code",
   "execution_count": 17,
   "metadata": {},
   "outputs": [
    {
     "name": "stdout",
     "output_type": "stream",
     "text": [
      "The dotenv extension is already loaded. To reload it, use:\n",
      "  %reload_ext dotenv\n"
     ]
    }
   ],
   "source": [
    "%load_ext dotenv\n",
    "%dotenv\n",
    "\n",
    "import os\n",
    "\n",
    "import nemollm\n",
    "import pandas as pd\n",
    "\n",
    "assert \"NGC_API_KEY\" in os.environ, \"Please set the NGC_API_KEY environment variable in the .env file.\""
   ]
  },
  {
   "cell_type": "code",
   "execution_count": 18,
   "metadata": {},
   "outputs": [],
   "source": [
    "# Input and output filenames\n",
    "input_filename = \"./pubmedqa/data/pqal_fold0/train_set.json\"\n",
    "output_filename = \"./datasets/pubmedqa-pqal_fold0-train.jsonl\""
   ]
  },
  {
   "attachments": {},
   "cell_type": "markdown",
   "metadata": {},
   "source": [
    "## Convert the Input Dataset to the NeMo Format\n",
    "\n",
    "We need to take the input file, which is in a nested dictionary format, and convert it to JSONL format according to: https://llm.ngc.nvidia.com/docs/model-customization-with-p-tuning.html#dataset\n",
    "\n",
    "Each prompt should look like the following:\n",
    "\n",
    "```handlebars\n",
    "Provided context:\n",
    "{{#each context}}\n",
    "  {{this.LABEL}}: {{this.CONTEXT}}\n",
    "{{/each}}\n",
    "Question: {{QUESTION}}\n",
    "Answer (yes / no / maybe):\n",
    "```\n"
   ]
  },
  {
   "cell_type": "code",
   "execution_count": 19,
   "metadata": {},
   "outputs": [
    {
     "name": "stdout",
     "output_type": "stream",
     "text": [
      "=====EXAMPLE PROMPT=====\n",
      "Provided context:\n",
      "PURPOSE: To determine whether prophylactic inhaled heparin is effective for the prevention and treatment of pneumonia patients receiving mechanical ventilation (MV) in the intensive care unit.\n",
      "METHODS: A phase 2, double blind randomized controlled trial stratified for study center and patient type (non-operative, post-operative) was conducted in three university-affiliated intensive care units. Patients aged ≥18years and requiring invasive MV for more than 48hours were randomized to usual care, nebulization of unfractionated sodium heparin (5000 units in 2mL) or placebo nebulization with 0.9% sodium chloride (2mL) four times daily with the main outcome measures of the development of ventilator associated pneumonia (VAP), ventilator associated complication (VAC) and sequential organ failure assessment scores in patients with pneumonia on admission or who developed VAP.\n",
      "TRIAL REGISTRATION: Australian and New Zealand Clinical Trials Registry ACTRN12612000038897.\n",
      "RESULTS: Two hundred and fourteen patients were enrolled (72 usual care, 71 inhaled sodium heparin, 71 inhaled sodium chloride). There were no differences between treatment groups in terms of the development of VAP, using either Klompas criteria (6-7%, P=1.00) or clinical diagnosis (24-26%, P=0.85). There was no difference in the clinical consistency (P=0.70), number (P=0.28) or the total volume of secretions per day (P=.54). The presence of blood in secretions was significantly less in the usual care group (P=0.005).\n",
      "Question: Is inhaled prophylactic heparin useful for prevention and Management of Pneumonia in ventilated ICU patients?\n",
      "Answer (yes / no / maybe):\n",
      "========================\n"
     ]
    }
   ],
   "source": [
    "# Load the datapd.\n",
    "import random\n",
    "\n",
    "train_df = pd.read_json(input_filename, orient=\"index\")\n",
    "\n",
    "def apply_fn(x: pd.Series):\n",
    "    labels = \"\\n\".join([f\"{context}: {label}\" for context, label in zip(x.LABELS, x.CONTEXTS)])\n",
    "\n",
    "    return f\"Provided context:\\n{labels}\\nQuestion: {x.QUESTION}\\nAnswer (yes / no / maybe):\"\n",
    "\n",
    "# Get the data into the correct format { \"prompt\": \"question\", \"completion\": \"answer\" }\n",
    "train_df[\"prompt\"] = train_df[[\"CONTEXTS\", \"LABELS\", \"QUESTION\"]].apply(apply_fn, axis=1)\n",
    "train_df[\"completion\"] = train_df[\"final_decision\"]\n",
    "\n",
    "# Show one value:\n",
    "print((f\"=====EXAMPLE PROMPT=====\\n\"\n",
    "       f\"{train_df['prompt'].iloc[random.randint(0, len(train_df)-1)]}\\n\"\n",
    "       f\"========================\"))\n",
    "\n",
    "# Save it to disk\n",
    "os.makedirs(os.path.dirname(output_filename), exist_ok=True)\n",
    "\n",
    "with open(output_filename, \"w\") as f:\n",
    "    train_df[[\"prompt\", \"completion\"]].to_json(f, orient=\"records\", lines=True)\n"
   ]
  },
  {
   "cell_type": "code",
   "execution_count": 21,
   "metadata": {},
   "outputs": [
    {
     "name": "stderr",
     "output_type": "stream",
     "text": [
      "pubmedqa-pqal_fold0-train.jsonl: 690kB [00:03, 187kB/s]                             "
     ]
    },
    {
     "name": "stdout",
     "output_type": "stream",
     "text": [
      "===SUCCESS!!!===\n"
     ]
    },
    {
     "name": "stderr",
     "output_type": "stream",
     "text": [
      "\n"
     ]
    }
   ],
   "source": [
    "# Upload to LLM\n",
    "nemo = nemollm.NemoLLM(\n",
    "    api_key=os.environ[\"NGC_API_KEY\"],\n",
    "    org_id=\"bwbg3fjn7she\",\n",
    ")\n",
    "\n",
    "nemo.upload(output_filename, True)\n",
    "\n",
    "print(\"===SUCCESS!!!===\")"
   ]
  },
  {
   "cell_type": "code",
   "execution_count": null,
   "metadata": {},
   "outputs": [],
   "source": []
  }
 ],
 "metadata": {
  "kernelspec": {
   "display_name": "morpheus_dev3",
   "language": "python",
   "name": "python3"
  },
  "language_info": {
   "codemirror_mode": {
    "name": "ipython",
    "version": 3
   },
   "file_extension": ".py",
   "mimetype": "text/x-python",
   "name": "python",
   "nbconvert_exporter": "python",
   "pygments_lexer": "ipython3",
   "version": "3.10.12"
  },
  "orig_nbformat": 4
 },
 "nbformat": 4,
 "nbformat_minor": 2
}
